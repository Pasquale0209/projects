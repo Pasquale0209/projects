{
  "nbformat": 4,
  "nbformat_minor": 0,
  "metadata": {
    "colab": {
      "provenance": []
    },
    "kernelspec": {
      "name": "python3",
      "display_name": "Python 3"
    },
    "language_info": {
      "name": "python"
    }
  },
  "cells": [
    {
      "cell_type": "markdown",
      "source": [
        "#***INSTALLING LIBRARIES***#"
      ],
      "metadata": {
        "id": "jvr_T20k-UFR"
      }
    },
    {
      "cell_type": "code",
      "source": [
        "! pip install requests\n",
        "! pip install beautifulsoup4\n",
        "! pip install --pre scapy[basic]\n",
        "! pip install pythonping\n",
        "! pip install ip2geotools\n",
        "\n",
        "import requests\n",
        "from bs4 import BeautifulSoup\n",
        "import urllib.request\n",
        "import json\n",
        "from pythonping import ping\n",
        "import socket\n",
        "from ip2geotools.databases.noncommercial import DbIpCity\n",
        "from geopy.distance import distance\n",
        "from urllib.parse import urlparse\n",
        "from scapy.all import *\n",
        "import csv"
      ],
      "metadata": {
        "id": "lK_hkYWqrx-a",
        "colab": {
          "base_uri": "https://localhost:8080/"
        },
        "outputId": "e7ceb6eb-12b2-4bf2-c599-3918b0f44c2c"
      },
      "execution_count": 1,
      "outputs": [
        {
          "output_type": "stream",
          "name": "stdout",
          "text": [
            "Requirement already satisfied: requests in /usr/local/lib/python3.10/dist-packages (2.31.0)\n",
            "Requirement already satisfied: charset-normalizer<4,>=2 in /usr/local/lib/python3.10/dist-packages (from requests) (3.3.2)\n",
            "Requirement already satisfied: idna<4,>=2.5 in /usr/local/lib/python3.10/dist-packages (from requests) (3.6)\n",
            "Requirement already satisfied: urllib3<3,>=1.21.1 in /usr/local/lib/python3.10/dist-packages (from requests) (2.0.7)\n",
            "Requirement already satisfied: certifi>=2017.4.17 in /usr/local/lib/python3.10/dist-packages (from requests) (2024.2.2)\n"
          ]
        },
        {
          "output_type": "stream",
          "name": "stderr",
          "text": [
            "Exception in thread Thread-5 (attachment_entry):\n",
            "Traceback (most recent call last):\n",
            "  File \"/usr/local/lib/python3.10/dist-packages/debugpy/server/api.py\", line 237, in listen\n",
            "    sock, _ = endpoints_listener.accept()\n",
            "  File \"/usr/lib/python3.10/socket.py\", line 293, in accept\n",
            "    fd, addr = self._accept()\n",
            "TimeoutError: timed out\n",
            "\n",
            "During handling of the above exception, another exception occurred:\n",
            "\n",
            "Traceback (most recent call last):\n",
            "  File \"/usr/lib/python3.10/threading.py\", line 1016, in _bootstrap_inner\n",
            "    self.run()\n",
            "  File \"/usr/lib/python3.10/threading.py\", line 953, in run\n",
            "    self._target(*self._args, **self._kwargs)\n",
            "  File \"/usr/local/lib/python3.10/dist-packages/google/colab/_debugpy.py\", line 52, in attachment_entry\n",
            "    debugpy.listen(_dap_port)\n",
            "  File \"/usr/local/lib/python3.10/dist-packages/debugpy/public_api.py\", line 31, in wrapper\n",
            "    return wrapped(*args, **kwargs)\n",
            "  File \"/usr/local/lib/python3.10/dist-packages/debugpy/server/api.py\", line 143, in debug\n",
            "    log.reraise_exception(\"{0}() failed:\", func.__name__, level=\"info\")\n",
            "  File \"/usr/local/lib/python3.10/dist-packages/debugpy/server/api.py\", line 141, in debug\n",
            "    return func(address, settrace_kwargs, **kwargs)\n",
            "  File \"/usr/local/lib/python3.10/dist-packages/debugpy/server/api.py\", line 251, in listen\n",
            "    raise RuntimeError(\"timed out waiting for adapter to connect\")\n",
            "RuntimeError: timed out waiting for adapter to connect\n"
          ]
        },
        {
          "output_type": "stream",
          "name": "stdout",
          "text": [
            "Requirement already satisfied: beautifulsoup4 in /usr/local/lib/python3.10/dist-packages (4.12.3)\n",
            "Requirement already satisfied: soupsieve>1.2 in /usr/local/lib/python3.10/dist-packages (from beautifulsoup4) (2.5)\n",
            "Requirement already satisfied: scapy[basic] in /usr/local/lib/python3.10/dist-packages (2.5.0)\n",
            "Requirement already satisfied: ipython in /usr/local/lib/python3.10/dist-packages (from scapy[basic]) (7.34.0)\n",
            "Requirement already satisfied: setuptools>=18.5 in /usr/local/lib/python3.10/dist-packages (from ipython->scapy[basic]) (69.1.1)\n",
            "Requirement already satisfied: jedi>=0.16 in /usr/local/lib/python3.10/dist-packages (from ipython->scapy[basic]) (0.19.1)\n",
            "Requirement already satisfied: decorator in /usr/local/lib/python3.10/dist-packages (from ipython->scapy[basic]) (4.4.2)\n",
            "Requirement already satisfied: pickleshare in /usr/local/lib/python3.10/dist-packages (from ipython->scapy[basic]) (0.7.5)\n",
            "Requirement already satisfied: traitlets>=4.2 in /usr/local/lib/python3.10/dist-packages (from ipython->scapy[basic]) (5.7.1)\n",
            "Requirement already satisfied: prompt-toolkit!=3.0.0,!=3.0.1,<3.1.0,>=2.0.0 in /usr/local/lib/python3.10/dist-packages (from ipython->scapy[basic]) (3.0.43)\n",
            "Requirement already satisfied: pygments in /usr/local/lib/python3.10/dist-packages (from ipython->scapy[basic]) (2.16.1)\n",
            "Requirement already satisfied: backcall in /usr/local/lib/python3.10/dist-packages (from ipython->scapy[basic]) (0.2.0)\n",
            "Requirement already satisfied: matplotlib-inline in /usr/local/lib/python3.10/dist-packages (from ipython->scapy[basic]) (0.1.6)\n",
            "Requirement already satisfied: pexpect>4.3 in /usr/local/lib/python3.10/dist-packages (from ipython->scapy[basic]) (4.9.0)\n",
            "Requirement already satisfied: parso<0.9.0,>=0.8.3 in /usr/local/lib/python3.10/dist-packages (from jedi>=0.16->ipython->scapy[basic]) (0.8.3)\n",
            "Requirement already satisfied: ptyprocess>=0.5 in /usr/local/lib/python3.10/dist-packages (from pexpect>4.3->ipython->scapy[basic]) (0.7.0)\n",
            "Requirement already satisfied: wcwidth in /usr/local/lib/python3.10/dist-packages (from prompt-toolkit!=3.0.0,!=3.0.1,<3.1.0,>=2.0.0->ipython->scapy[basic]) (0.2.13)\n",
            "Requirement already satisfied: pythonping in /usr/local/lib/python3.10/dist-packages (1.1.4)\n",
            "Requirement already satisfied: ip2geotools in /usr/local/lib/python3.10/dist-packages (0.1.6)\n",
            "Requirement already satisfied: astroid>=2.1.0 in /usr/local/lib/python3.10/dist-packages (from ip2geotools) (3.1.0)\n",
            "Requirement already satisfied: autopep8>=1.4.3 in /usr/local/lib/python3.10/dist-packages (from ip2geotools) (2.0.4)\n",
            "Requirement already satisfied: bleach>=3.0.2 in /usr/local/lib/python3.10/dist-packages (from ip2geotools) (6.1.0)\n",
            "Requirement already satisfied: certifi>=2018.10.15 in /usr/local/lib/python3.10/dist-packages (from ip2geotools) (2024.2.2)\n",
            "Requirement already satisfied: chardet>=3.0.4 in /usr/local/lib/python3.10/dist-packages (from ip2geotools) (5.2.0)\n",
            "Requirement already satisfied: Click>=7.0 in /usr/local/lib/python3.10/dist-packages (from ip2geotools) (8.1.7)\n",
            "Requirement already satisfied: cssselect>=1.0.3 in /usr/local/lib/python3.10/dist-packages (from ip2geotools) (1.2.0)\n",
            "Requirement already satisfied: decorator>=4.3.0 in /usr/local/lib/python3.10/dist-packages (from ip2geotools) (4.4.2)\n",
            "Requirement already satisfied: dicttoxml>=1.7.4 in /usr/local/lib/python3.10/dist-packages (from ip2geotools) (1.7.16)\n",
            "Requirement already satisfied: docutils>=0.14 in /usr/local/lib/python3.10/dist-packages (from ip2geotools) (0.18.1)\n",
            "Requirement already satisfied: future>=0.17.1 in /usr/local/lib/python3.10/dist-packages (from ip2geotools) (0.18.3)\n",
            "Requirement already satisfied: geocoder>=1.38.1 in /usr/local/lib/python3.10/dist-packages (from ip2geotools) (1.38.1)\n",
            "Requirement already satisfied: geoip2>=2.9.0 in /usr/local/lib/python3.10/dist-packages (from ip2geotools) (4.8.0)\n",
            "Requirement already satisfied: idna>=2.7 in /usr/local/lib/python3.10/dist-packages (from ip2geotools) (3.6)\n",
            "Requirement already satisfied: IP2Location>=8.0.3 in /usr/local/lib/python3.10/dist-packages (from ip2geotools) (8.10.2)\n",
            "Requirement already satisfied: isort>=4.3.4 in /usr/local/lib/python3.10/dist-packages (from ip2geotools) (5.13.2)\n",
            "Requirement already satisfied: lazy-object-proxy>=1.3.1 in /usr/local/lib/python3.10/dist-packages (from ip2geotools) (1.10.0)\n",
            "Requirement already satisfied: lxml>=4.2.5 in /usr/local/lib/python3.10/dist-packages (from ip2geotools) (4.9.4)\n",
            "Requirement already satisfied: maxminddb>=1.4.1 in /usr/local/lib/python3.10/dist-packages (from ip2geotools) (2.5.2)\n",
            "Requirement already satisfied: mccabe>=0.6.1 in /usr/local/lib/python3.10/dist-packages (from ip2geotools) (0.7.0)\n",
            "Requirement already satisfied: packaging>=18.0 in /usr/local/lib/python3.10/dist-packages (from ip2geotools) (23.2)\n",
            "Requirement already satisfied: pip-review>=1.0 in /usr/local/lib/python3.10/dist-packages (from ip2geotools) (1.3.0)\n",
            "Requirement already satisfied: pkginfo>=1.4.2 in /usr/local/lib/python3.10/dist-packages (from ip2geotools) (1.10.0)\n",
            "Requirement already satisfied: pycodestyle>=2.4.0 in /usr/local/lib/python3.10/dist-packages (from ip2geotools) (2.11.1)\n",
            "Requirement already satisfied: Pygments>=2.3.0 in /usr/local/lib/python3.10/dist-packages (from ip2geotools) (2.16.1)\n",
            "Requirement already satisfied: pylint>=2.2.0 in /usr/local/lib/python3.10/dist-packages (from ip2geotools) (3.1.0)\n",
            "Requirement already satisfied: pyparsing>=2.3.0 in /usr/local/lib/python3.10/dist-packages (from ip2geotools) (3.1.1)\n",
            "Requirement already satisfied: pyquery>=1.4.0 in /usr/local/lib/python3.10/dist-packages (from ip2geotools) (2.0.0)\n",
            "Requirement already satisfied: ratelim>=0.1.6 in /usr/local/lib/python3.10/dist-packages (from ip2geotools) (0.1.6)\n",
            "Requirement already satisfied: readme-renderer>=24.0 in /usr/local/lib/python3.10/dist-packages (from ip2geotools) (43.0)\n",
            "Requirement already satisfied: requests>=2.20.1 in /usr/local/lib/python3.10/dist-packages (from ip2geotools) (2.31.0)\n",
            "Requirement already satisfied: requests-toolbelt>=0.8.0 in /usr/local/lib/python3.10/dist-packages (from ip2geotools) (1.0.0)\n",
            "Requirement already satisfied: selenium>=3.141.0 in /usr/local/lib/python3.10/dist-packages (from ip2geotools) (4.18.1)\n",
            "Requirement already satisfied: six>=1.11.0 in /usr/local/lib/python3.10/dist-packages (from ip2geotools) (1.16.0)\n",
            "Requirement already satisfied: tqdm>=4.28.1 in /usr/local/lib/python3.10/dist-packages (from ip2geotools) (4.66.2)\n",
            "Requirement already satisfied: twine>=1.12.1 in /usr/local/lib/python3.10/dist-packages (from ip2geotools) (5.0.0)\n",
            "Requirement already satisfied: typed-ast>=1.1.0 in /usr/local/lib/python3.10/dist-packages (from ip2geotools) (1.5.5)\n",
            "Requirement already satisfied: typing>=3.6.6 in /usr/local/lib/python3.10/dist-packages (from ip2geotools) (3.7.4.3)\n",
            "Requirement already satisfied: urllib3>=1.24.1 in /usr/local/lib/python3.10/dist-packages (from ip2geotools) (2.0.7)\n",
            "Requirement already satisfied: webencodings>=0.5.1 in /usr/local/lib/python3.10/dist-packages (from ip2geotools) (0.5.1)\n",
            "Requirement already satisfied: wrapt>=1.10.11 in /usr/local/lib/python3.10/dist-packages (from ip2geotools) (1.14.1)\n",
            "Requirement already satisfied: typing-extensions>=4.0.0 in /usr/local/lib/python3.10/dist-packages (from astroid>=2.1.0->ip2geotools) (4.10.0)\n",
            "Requirement already satisfied: tomli in /usr/local/lib/python3.10/dist-packages (from autopep8>=1.4.3->ip2geotools) (2.0.1)\n",
            "Requirement already satisfied: aiohttp<4.0.0,>=3.6.2 in /usr/local/lib/python3.10/dist-packages (from geoip2>=2.9.0->ip2geotools) (3.9.3)\n",
            "Requirement already satisfied: setuptools>=60.0.0 in /usr/local/lib/python3.10/dist-packages (from geoip2>=2.9.0->ip2geotools) (69.1.1)\n",
            "Requirement already satisfied: pip in /usr/local/lib/python3.10/dist-packages (from pip-review>=1.0->ip2geotools) (23.1.2)\n",
            "Requirement already satisfied: platformdirs>=2.2.0 in /usr/local/lib/python3.10/dist-packages (from pylint>=2.2.0->ip2geotools) (4.2.0)\n",
            "Requirement already satisfied: tomlkit>=0.10.1 in /usr/local/lib/python3.10/dist-packages (from pylint>=2.2.0->ip2geotools) (0.12.4)\n",
            "Requirement already satisfied: dill>=0.2 in /usr/local/lib/python3.10/dist-packages (from pylint>=2.2.0->ip2geotools) (0.3.8)\n",
            "Requirement already satisfied: nh3>=0.2.14 in /usr/local/lib/python3.10/dist-packages (from readme-renderer>=24.0->ip2geotools) (0.2.15)\n",
            "Requirement already satisfied: charset-normalizer<4,>=2 in /usr/local/lib/python3.10/dist-packages (from requests>=2.20.1->ip2geotools) (3.3.2)\n",
            "Requirement already satisfied: trio~=0.17 in /usr/local/lib/python3.10/dist-packages (from selenium>=3.141.0->ip2geotools) (0.24.0)\n",
            "Requirement already satisfied: trio-websocket~=0.9 in /usr/local/lib/python3.10/dist-packages (from selenium>=3.141.0->ip2geotools) (0.11.1)\n",
            "Requirement already satisfied: importlib-metadata>=3.6 in /usr/local/lib/python3.10/dist-packages (from twine>=1.12.1->ip2geotools) (7.0.1)\n",
            "Requirement already satisfied: keyring>=15.1 in /usr/lib/python3/dist-packages (from twine>=1.12.1->ip2geotools) (23.5.0)\n",
            "Requirement already satisfied: rfc3986>=1.4.0 in /usr/local/lib/python3.10/dist-packages (from twine>=1.12.1->ip2geotools) (2.0.0)\n",
            "Requirement already satisfied: rich>=12.0.0 in /usr/local/lib/python3.10/dist-packages (from twine>=1.12.1->ip2geotools) (13.7.0)\n",
            "Requirement already satisfied: aiosignal>=1.1.2 in /usr/local/lib/python3.10/dist-packages (from aiohttp<4.0.0,>=3.6.2->geoip2>=2.9.0->ip2geotools) (1.3.1)\n",
            "Requirement already satisfied: attrs>=17.3.0 in /usr/local/lib/python3.10/dist-packages (from aiohttp<4.0.0,>=3.6.2->geoip2>=2.9.0->ip2geotools) (23.2.0)\n",
            "Requirement already satisfied: frozenlist>=1.1.1 in /usr/local/lib/python3.10/dist-packages (from aiohttp<4.0.0,>=3.6.2->geoip2>=2.9.0->ip2geotools) (1.4.1)\n",
            "Requirement already satisfied: multidict<7.0,>=4.5 in /usr/local/lib/python3.10/dist-packages (from aiohttp<4.0.0,>=3.6.2->geoip2>=2.9.0->ip2geotools) (6.0.5)\n",
            "Requirement already satisfied: yarl<2.0,>=1.0 in /usr/local/lib/python3.10/dist-packages (from aiohttp<4.0.0,>=3.6.2->geoip2>=2.9.0->ip2geotools) (1.9.4)\n",
            "Requirement already satisfied: async-timeout<5.0,>=4.0 in /usr/local/lib/python3.10/dist-packages (from aiohttp<4.0.0,>=3.6.2->geoip2>=2.9.0->ip2geotools) (4.0.3)\n",
            "Requirement already satisfied: zipp>=0.5 in /usr/local/lib/python3.10/dist-packages (from importlib-metadata>=3.6->twine>=1.12.1->ip2geotools) (3.17.0)\n",
            "Requirement already satisfied: markdown-it-py>=2.2.0 in /usr/local/lib/python3.10/dist-packages (from rich>=12.0.0->twine>=1.12.1->ip2geotools) (3.0.0)\n",
            "Requirement already satisfied: sortedcontainers in /usr/local/lib/python3.10/dist-packages (from trio~=0.17->selenium>=3.141.0->ip2geotools) (2.4.0)\n",
            "Requirement already satisfied: outcome in /usr/local/lib/python3.10/dist-packages (from trio~=0.17->selenium>=3.141.0->ip2geotools) (1.3.0.post0)\n",
            "Requirement already satisfied: sniffio>=1.3.0 in /usr/local/lib/python3.10/dist-packages (from trio~=0.17->selenium>=3.141.0->ip2geotools) (1.3.1)\n",
            "Requirement already satisfied: exceptiongroup in /usr/local/lib/python3.10/dist-packages (from trio~=0.17->selenium>=3.141.0->ip2geotools) (1.2.0)\n",
            "Requirement already satisfied: wsproto>=0.14 in /usr/local/lib/python3.10/dist-packages (from trio-websocket~=0.9->selenium>=3.141.0->ip2geotools) (1.2.0)\n",
            "Requirement already satisfied: pysocks!=1.5.7,<2.0,>=1.5.6 in /usr/local/lib/python3.10/dist-packages (from urllib3>=1.24.1->ip2geotools) (1.7.1)\n",
            "Requirement already satisfied: mdurl~=0.1 in /usr/local/lib/python3.10/dist-packages (from markdown-it-py>=2.2.0->rich>=12.0.0->twine>=1.12.1->ip2geotools) (0.1.2)\n",
            "Requirement already satisfied: h11<1,>=0.9.0 in /usr/local/lib/python3.10/dist-packages (from wsproto>=0.14->trio-websocket~=0.9->selenium>=3.141.0->ip2geotools) (0.14.0)\n"
          ]
        }
      ]
    },
    {
      "cell_type": "markdown",
      "source": [
        "#***FINDING MY INFO***#"
      ],
      "metadata": {
        "id": "V4dPz1Y_SBvH"
      }
    },
    {
      "cell_type": "code",
      "source": [
        "api='https://api.ipify.org' # This line assigns the URL of the ipify API to the variable api. This API is used to fetch the public IP address of the vm\n",
        "\n",
        "ip=urllib.request.urlopen(api).read().decode('UTF-8') #This line opens the URL specified by api using urlopen(), reads the data from it using read(),\n",
        "#and then decodes the bytes into a string using decode('UTF-8'). This retrieves the public IP address\n",
        "\n",
        "print(f'My IP is:{ip}')\n",
        "\n",
        "info = json.loads(urllib.request.urlopen('http://ip-api.com/json/'+ip).read())#This line constructs a URL using the public IP address and queries\n",
        "#the ip-api.com service to retrieve information about that IP address in JSON format. It then reads the response, decodes it from bytes to a string,\n",
        "#and parses the JSON string into a Python dictionary using json.loads(), storing the result in the variable info.\n",
        "\n",
        "#print(info)\n",
        "print(f'My city is: {info[\"city\"]}')\n",
        "print(f'My country is: {info[\"country\"]}')\n",
        "print(f'My latitude is: {info[\"lat\"]}')\n",
        "print(f'My longitude is: {info[\"lon\"]}')"
      ],
      "metadata": {
        "colab": {
          "base_uri": "https://localhost:8080/"
        },
        "id": "LQv7fnqkmkDZ",
        "outputId": "c5d8b9de-36aa-4c31-b68e-8f3feab42061"
      },
      "execution_count": 2,
      "outputs": [
        {
          "output_type": "stream",
          "name": "stdout",
          "text": [
            "My IP is:35.202.153.197\n",
            "My city is: Council Bluffs\n",
            "My country is: United States\n",
            "My latitude is: 41.2619\n",
            "My longitude is: -95.8608\n"
          ]
        }
      ]
    },
    {
      "cell_type": "markdown",
      "source": [
        "#***EXTRACT THE URLS FROM THE WEBSITE***#"
      ],
      "metadata": {
        "id": "bs1Mlfz3-gLn"
      }
    },
    {
      "cell_type": "code",
      "source": [
        "URL = \"https://www.debian.org/mirror/list#complete-list\"\n",
        "page = requests.get(URL)#This line uses the requests module to send an HTTP GET request to the URL specified by URL,\n",
        "#and it stores the response in the variable page.\n",
        "\n",
        "soup = BeautifulSoup(page.content, \"html.parser\")#This line creates a BeautifulSoup object soup from the HTML content of the page.\n",
        "#It uses the \"html.parser\" parser to parse the HTML content.\n",
        "urls= []\n",
        "\n",
        "#Find all <a> tags\n",
        "links = soup.find_all('a')\n",
        "\n",
        "# extract for each link the value of the href attribute (the URL) and append it to the urls list.\n",
        "for link in links:\n",
        "\n",
        "  link_url = link[\"href\"]\n",
        "\n",
        "  urls.append(link_url)\n",
        "\n",
        "# drop not useful lines\n",
        "urls = urls[13:376]\n",
        "print(len(urls))\n",
        "\n",
        "print(urls)\n",
        "\n",
        "for i in range(len(urls)):\n",
        "\n",
        "  # Analize the URL\n",
        "  parsed_url = urlparse(urls[i])\n",
        "\n",
        "  # Extract the host from the url\n",
        "  url = parsed_url.netloc\n",
        "  urls[i] = url\n",
        "\n",
        "print(urls)\n",
        "\n"
      ],
      "metadata": {
        "colab": {
          "base_uri": "https://localhost:8080/"
        },
        "id": "PMkES105wNWD",
        "outputId": "216ed339-c338-40fa-857d-7b7b87db1884"
      },
      "execution_count": 3,
      "outputs": [
        {
          "output_type": "stream",
          "name": "stdout",
          "text": [
            "363\n",
            "['http://ftp.am.debian.org/debian/', 'http://ftp.au.debian.org/debian/', 'http://ftp.at.debian.org/debian/', 'http://ftp.by.debian.org/debian/', 'http://ftp.be.debian.org/debian/', 'http://ftp.br.debian.org/debian/', 'http://ftp.bg.debian.org/debian/', 'http://ftp.ca.debian.org/debian/', 'http://ftp.cl.debian.org/debian/', 'http://ftp.cn.debian.org/debian/', 'http://ftp.hr.debian.org/debian/', 'http://ftp.cz.debian.org/debian/', 'http://ftp.dk.debian.org/debian/', 'http://ftp.fi.debian.org/debian/', 'http://ftp.fr.debian.org/debian/', 'http://ftp2.de.debian.org/debian/', 'http://ftp.de.debian.org/debian/', 'http://ftp.hk.debian.org/debian/', 'http://ftp.is.debian.org/debian/', 'http://ftp.it.debian.org/debian/', 'http://ftp.jp.debian.org/debian/', 'http://ftp.kr.debian.org/debian/', 'http://ftp.lt.debian.org/debian/', 'http://ftp.md.debian.org/debian/', 'http://ftp.nl.debian.org/debian/', 'http://ftp.nc.debian.org/debian/', 'http://ftp.nz.debian.org/debian/', 'http://ftp.no.debian.org/debian/', 'http://ftp.pl.debian.org/debian/', 'http://ftp.pt.debian.org/debian/', 'http://ftp.ru.debian.org/debian/', 'http://ftp.sk.debian.org/debian/', 'http://ftp.si.debian.org/debian/', 'http://ftp.es.debian.org/debian/', 'http://ftp.se.debian.org/debian/', 'http://ftp.ch.debian.org/debian/', 'http://ftp.tw.debian.org/debian/', 'http://ftp.tr.debian.org/debian/', 'http://ftp.uk.debian.org/debian/', 'http://ftp.us.debian.org/debian/', 'http://debian.unnoba.edu.ar/debian/', 'http://ftp.am.debian.org/debian/', 'http://mirrors.asnet.am/debian/', 'http://ftp.au.debian.org/debian/', 'http://debian.mirror.digitalpacific.com.au/debian/', 'http://mirror.aarnet.edu.au/debian/', 'http://mirror.amaze.com.au/debian/', 'http://mirror.gsl.icu/debian/', 'http://mirror.linux.org.au/debian/', 'http://mirror.overthewire.com.au/debian/', 'http://mirror.realcompute.io/debian/', 'http://mirrors.xtom.au/debian/', 'http://ftp.at.debian.org/debian/', 'http://debian.anexia.at/debian/', 'http://debian.lagis.at/debian/', 'http://debian.mur.at/debian/', 'http://debian.sil.at/debian/', 'http://ftp.tu-graz.ac.at/mirror/debian/', 'http://mirror.alwyzon.net/debian/', 'http://ftp.by.debian.org/debian/', 'http://ftp.byfly.by/debian/', 'http://mirror.datacenter.by/debian/', 'http://ftp.be.debian.org/debian/', 'http://ftp.belnet.be/debian/', 'http://mirror.as35701.net/debian/', 'http://ftp.br.debian.org/debian/', 'http://alcateia.ufscar.br/debian/', 'http://debian.c3sl.ufpr.br/debian/', 'http://ftp.bg.debian.org/debian/', 'http://debian.a1.bg/debian/', 'http://debian.ludost.net/debian/', 'http://debian.mnet.bg/debian/', 'http://debian.telecoms.bg/debian/', 'http://ftp.uni-sofia.bg/debian/', 'http://mirrors.netix.net/debian/', 'http://mirror.telepoint.bg/debian/', 'http://ftp.ca.debian.org/debian/', 'http://debian.mirror.iweb.ca/debian/', 'http://debian.mirror.rafal.ca/debian/', 'http://mirror01-pcl-ott1.accuris.ca/debian/', 'http://mirror.csclub.uwaterloo.ca/debian/', 'http://mirror.dst.ca/debian/', 'http://mirror.estone.ca/debian/', 'http://mirror.it.ubc.ca/debian/', 'http://ftp.cl.debian.org/debian/', 'http://debian.redlibre.cl/debian/', 'http://mirror.hnd.cl/debian/', 'http://mirror.insacom.cl/debian/', 'http://mirror.ufro.cl/debian/', 'http://ftp.cn.debian.org/debian/', 'http://mirror.nju.edu.cn/debian/', 'http://mirror.nyist.edu.cn/debian/', 'http://mirrors.163.com/debian/', 'http://mirrors.bfsu.edu.cn/debian/', 'http://mirrors.huaweicloud.com/debian/', 'http://mirrors.jlu.edu.cn/debian/', 'http://mirror.sjtu.edu.cn/debian/', 'http://mirrors.neusoft.edu.cn/debian/', 'http://mirrors.tuna.tsinghua.edu.cn/debian/', 'http://mirrors.ustc.edu.cn/debian/', 'http://mirrors.zju.edu.cn/debian/', 'http://debianmirror.una.ac.cr/debian/', 'http://ftp.hr.debian.org/debian/', 'http://debian.carnet.hr/debian/', 'http://debian.iskon.hr/debian/', 'http://ftp.cz.debian.org/debian/', 'http://debian.mirror.web4u.cz/', 'http://debian.superhosting.cz/debian/', 'http://ftp.cvut.cz/debian/', 'http://ftp.debian.cz/debian/', 'http://ftp.sh.cvut.cz/debian/', 'http://ftp.zcu.cz/debian/', 'http://merlin.fit.vutbr.cz/debian/', 'http://mirror.dkm.cz/debian/', 'http://mirror.it4i.cz/debian/', 'http://mirror-prg.webglobe.com/debian/', 'http://mirrors.nic.cz/debian/', 'http://ftp.dk.debian.org/debian/', 'http://mirror.asergo.com/debian/', 'http://mirror.one.com/debian/', 'http://mirrors.dotsrc.org/debian/', 'http://mirrors.rackhosting.com/debian/', 'http://mirrors.xtom.ee/debian/', 'http://ftp.fi.debian.org/debian/', 'http://www.nic.funet.fi/debian/', 'http://ftp.fr.debian.org/debian/', 'http://debian.apt-mirror.de/debian/', 'http://debian.obspm.fr/debian/', 'http://debian.polytech-lille.fr/debian/', 'http://debian.proxad.net/debian/', 'http://debian.univ-tlse2.fr/debian/', 'http://deb-mir1.naitways.net/debian/', 'http://ftp.ec-m.fr/debian/', 'http://ftp.lip6.fr/pub/linux/distributions/debian/', 'http://ftp.rezopole.net/debian/', 'http://ftp.univ-pau.fr/linux/mirrors/debian/', 'http://ftp.u-picardie.fr/debian/', 'http://ftp.u-strasbg.fr/debian/', 'http://miroir.univ-lorraine.fr/debian/', 'http://mirror.gitoyen.net/debian/', 'http://mirror.ibcp.fr/debian/', 'http://mirror.johnnybegood.fr/debian/', 'http://mirror.plusserver.com/debian/debian/', 'http://mirrors.ircam.fr/pub/debian/', 'http://debian.grena.ge/debian/', 'http://ftp2.de.debian.org/debian/', 'http://ftp.de.debian.org/debian/', 'http://artfiles.org/debian/', 'http://debian.charite.de/debian/', 'http://debian.inf.tu-dresden.de/debian/', 'http://debian.intergenia.de/debian/', 'http://debian.mirror.iphh.net/debian/', 'http://debian.mirror.lrz.de/debian/', 'http://debian.netcologne.de/debian/', 'http://debian.tu-bs.de/debian/', 'http://de.mirrors.clouvider.net/debian/', 'http://ftp.fau.de/debian/', 'http://ftp.gwdg.de/debian/', 'http://ftp.halifax.rwth-aachen.de/debian/', 'http://ftp.hosteurope.de/mirror/ftp.debian.org/debian/', 'http://ftp.plusline.net/debian/', 'http://ftp-stud.hs-esslingen.de/debian/', 'http://ftp.tu-chemnitz.de/debian/', 'http://ftp.tu-clausthal.de/debian/', 'http://ftp.uni-bayreuth.de/debian/', 'http://ftp.uni-hannover.de/debian/debian/', 'http://ftp.uni-kl.de/debian/', 'http://ftp.uni-mainz.de/debian/', 'http://ftp.wrz.de/debian/', 'http://mirror.23m.com/debian/', 'http://mirror.de.leaseweb.net/debian/', 'http://mirror.dogado.de/debian/', 'http://mirror.eu.oneandone.net/debian/', 'http://mirror.informatik.tu-freiberg.de/debian/', 'http://mirror.ipb.de/debian/', 'http://mirror.netzwerge.de/debian/', 'http://mirrors.xtom.de/debian/', 'http://mirror.united-gameserver.de/debian/', 'http://mirror.wtnet.de/debian/', 'http://packages.hs-regensburg.de/debian/', 'http://pubmirror.plutex.de/debian/', 'http://debian.otenet.gr/debian/', 'http://ftp.hk.debian.org/debian/', 'http://mirror.xtom.com.hk/debian/', 'http://ftp.bme.hu/debian/', 'http://repo.jztkft.hu/debian/', 'http://ftp.is.debian.org/debian/', 'http://is.mirror.flokinet.net/debian/', 'http://mirrors.iitd.ac.in/debian/', 'http://kebo.pens.ac.id/debian/', 'http://mirror.poliwangi.ac.id/debian/', 'http://mirror.unair.ac.id/debian/', 'http://mr.heru.id/debian/', 'http://debian.hostiran.ir/debian/', 'http://debian.parspack.com/debian/', 'http://debian.interhost.co.il/debian/', 'http://ftp.it.debian.org/debian/', 'http://debian.dynamica.it/debian/', 'http://debian.mirror.garr.it/debian/', 'http://ftp.linux.it/debian/', 'http://giano.com.dist.unige.it/debian/', 'http://mirror.units.it/debian/', 'http://ftp.jp.debian.org/debian/', 'http://debian-mirror.sakura.ne.jp/debian/', 'http://ftp.kddilabs.jp/pub/debian/', 'http://ftp.nara.wide.ad.jp/debian/', 'http://ftp.riken.jp/Linux/debian/debian/', 'http://mirrors.xtom.jp/debian/', 'http://repo.jing.rocks/debian/', 'http://mirror.hoster.kz/debian/', 'http://mirror.ps.kz/debian/', 'http://debian.mirror.liquidtelecom.com/debian/', 'http://ftp.kr.debian.org/debian/', 'http://ftp.kaist.ac.kr/debian/', 'http://mirror.siwoo.org/debian/', 'http://debian.koyanet.lv/debian/', 'http://mirror.cloudhosting.lv/debian/', 'http://ftp.lt.debian.org/debian/', 'http://debian.balt.net/debian/', 'http://debian.mirror.vu.lt/debian/', 'http://mirror.litnet.lt/debian/', 'http://mirror.vpsnet.com/debian/', 'http://debian.mirror.root.lu/debian/', 'http://mirror-mk.interspace.com/debian/', 'http://mirror.onevip.mk/debian/', 'http://ftp.md.debian.org/debian/', 'http://mirror.as43289.net/debian/', 'http://ftp.nl.debian.org/debian/', 'http://debian.snt.utwente.nl/debian/', 'http://mirror.duocast.net/debian/', 'http://mirror.i3d.net/debian/', 'http://mirror.nl.datapacket.com/debian/', 'http://mirror.nl.leaseweb.net/debian/', 'http://mirror.seedvps.com/debian/', 'http://mirrors.hostiserver.com/debian/', 'http://mirrors.xtom.nl/debian/', 'http://nl.mirrors.clouvider.net/debian/', 'http://ftp.nc.debian.org/debian/', 'http://debian.nautile.nc/debian/', 'http://mirror.lagoon.nc/debian/', 'http://ftp.nz.debian.org/debian/', 'http://linux.purple-cat.net/debian/', 'http://mirror.fsmg.org.nz/debian/', 'http://ftp.no.debian.org/debian/', 'http://ftp.uio.no/debian/', 'http://ftp.pl.debian.org/debian/', 'http://debian.inhost.pro/debian/', 'http://ftp.agh.edu.pl/debian/', 'http://ftp.icm.edu.pl/pub/Linux/debian/', 'http://ftp.psnc.pl/debian/', 'http://ftp.task.gda.pl/debian/', 'http://ftp.pt.debian.org/debian/', 'http://debian.uevora.pt/debian/', 'http://ftp.eq.uc.pt/software/Linux/debian/', 'http://ftp.rnl.tecnico.ulisboa.pt/pub/debian/', 'http://mirrors.ptisp.pt/debian/', 'http://mirrors.up.pt/debian/', 'http://debian.mithril.re/debian/', 'http://depot-debian.univ-reunion.fr/debian/', 'http://mirror.linux.ro/debian/', 'http://mirrors.hostico.ro/debian/', 'http://mirrors.nav.ro/debian/', 'http://mirrors.nxthost.com/debian/', 'http://ro.mirror.flokinet.net/debian/', 'http://ftp.ru.debian.org/debian/', 'http://ftp.psn.ru/debian/', 'http://mirror.corbina.net/debian/', 'http://mirror.docker.ru/debian/', 'http://mirror.hyperdedic.ru/debian/', 'http://mirror.mephi.ru/debian/', 'http://mirrors.powernet.com.ru/debian/', 'http://mirror.coganng.com/debian/', 'http://mirror.sg.gs/debian/', 'http://ossmirror.mycloud.services/debian/', 'http://ftp.sk.debian.org/debian/', 'http://deb.bbxnet.sk/debian/', 'http://ftp.antik.sk/debian/', 'http://ftp.debian.sk/debian/', 'http://ftp.si.debian.org/debian/', 'http://debian.saix.net/', 'http://ftp.is.co.za/debian/', 'http://ftp.es.debian.org/debian/', 'http://debian.grn.cat/debian/', 'http://debian.redimadrid.es/debian/', 'http://debian.redparra.com/debian/', 'http://debian.uvigo.es/debian/', 'http://ftp.caliu.cat/debian/', 'http://ftp.cica.es/debian/', 'http://ftp.udc.es/debian/', 'http://repo.ifca.es/debian/', 'http://softlibre.unizar.es/debian/', 'http://ulises.hostalia.com/debian/', 'http://ftp.se.debian.org/debian/', 'http://debian.lth.se/debian/', 'http://debian.mirror.su.se/debian/', 'http://ftp.acc.umu.se/debian/', 'http://ftpmirror1.infania.net/debian/', 'http://mirrors.glesys.net/debian/', 'http://mirror.zetup.net/debian/', 'http://ftp.ch.debian.org/debian/', 'http://debian.ethz.ch/debian/', 'http://mirror1.infomaniak.com/debian/', 'http://mirror2.infomaniak.com/debian/', 'http://mirror.init7.net/debian/', 'http://mirror.iway.ch/debian/', 'http://mirror.metanet.ch/debian/', 'http://mirror.sinavps.ch/debian/', 'http://pkg.adfinis.com/debian/', 'http://ftp.tw.debian.org/debian/', 'http://debian.csie.ntu.edu.tw/debian/', 'http://debian.cs.nycu.edu.tw/debian/', 'http://ftp.tku.edu.tw/debian/', 'http://opensource.nchc.org.tw/debian/', 'http://tw1.mirror.blendbyte.net/debian/', 'http://ftp.debianclub.org/debian/', 'http://mirror.applebred.net/debian/', 'http://mirror.kku.ac.th/debian/', 'http://ftp.tr.debian.org/debian/', 'http://debian.gnu.gen.tr/debian/', 'http://ftp.linux.org.tr/debian/', 'http://debian.netforce.hosting/debian/', 'http://debian.volia.net/debian/', 'http://fastmirror.pp.ua/debian/', 'http://mirror.mirohost.net/debian/', 'http://mirror.ukrnames.com/debian/', 'http://ftp.uk.debian.org/debian/', 'http://debian.mirrors.uk2.net/debian/', 'http://debian.mirror.uk.sargasso.net/debian/', 'http://free.hands.com/debian/', 'http://ftp.ticklers.org/debian/', 'http://mirror.cov.ukservers.com/debian/', 'http://mirror.lchost.net/debian/', 'http://mirror.mythic-beasts.com/debian/', 'http://mirror.ox.ac.uk/debian/', 'http://mirror.positive-internet.com/debian/', 'http://mirrors.coreix.net/debian/', 'http://mirrorservice.org/sites/ftp.debian.org/debian/', 'http://mirror.vinehost.net/debian/', 'http://ukdebian.mirror.anlx.net/debian/', 'http://uk.mirrors.clouvider.net/debian/', 'http://ftp.us.debian.org/debian/', 'http://atl.mirrors.clouvider.net/debian/', 'http://debian-archive.trafficmanager.net/debian/', 'http://debian.cc.lehigh.edu/debian/', 'http://debian.csail.mit.edu/debian/', 'http://debian.cs.binghamton.edu/debian/', 'http://debian.mirror.constant.com/debian/', 'http://debian.osuosl.org/debian/', 'http://debian.uchicago.edu/debian/', 'http://la.mirrors.clouvider.net/debian/', 'http://mirror.0x626b.com/debian/', 'http://mirror.clarkson.edu/debian/', 'http://mirror.cogentco.com/debian/', 'http://mirror.dal.nexril.net/debian/', 'http://mirror.keystealth.org/debian/', 'http://mirror.rustytel.net/debian/', 'http://mirrors.accretive-networks.net/debian/', 'http://mirror.siena.edu/debian/', 'http://mirrors.lug.mtu.edu/debian/', 'http://mirrors.namecheap.com/debian/', 'http://mirrors.ocf.berkeley.edu/debian/', 'http://mirror.steadfast.net/debian/', 'http://mirrors.vcea.wsu.edu/debian/']\n",
            "['ftp.am.debian.org', 'ftp.au.debian.org', 'ftp.at.debian.org', 'ftp.by.debian.org', 'ftp.be.debian.org', 'ftp.br.debian.org', 'ftp.bg.debian.org', 'ftp.ca.debian.org', 'ftp.cl.debian.org', 'ftp.cn.debian.org', 'ftp.hr.debian.org', 'ftp.cz.debian.org', 'ftp.dk.debian.org', 'ftp.fi.debian.org', 'ftp.fr.debian.org', 'ftp2.de.debian.org', 'ftp.de.debian.org', 'ftp.hk.debian.org', 'ftp.is.debian.org', 'ftp.it.debian.org', 'ftp.jp.debian.org', 'ftp.kr.debian.org', 'ftp.lt.debian.org', 'ftp.md.debian.org', 'ftp.nl.debian.org', 'ftp.nc.debian.org', 'ftp.nz.debian.org', 'ftp.no.debian.org', 'ftp.pl.debian.org', 'ftp.pt.debian.org', 'ftp.ru.debian.org', 'ftp.sk.debian.org', 'ftp.si.debian.org', 'ftp.es.debian.org', 'ftp.se.debian.org', 'ftp.ch.debian.org', 'ftp.tw.debian.org', 'ftp.tr.debian.org', 'ftp.uk.debian.org', 'ftp.us.debian.org', 'debian.unnoba.edu.ar', 'ftp.am.debian.org', 'mirrors.asnet.am', 'ftp.au.debian.org', 'debian.mirror.digitalpacific.com.au', 'mirror.aarnet.edu.au', 'mirror.amaze.com.au', 'mirror.gsl.icu', 'mirror.linux.org.au', 'mirror.overthewire.com.au', 'mirror.realcompute.io', 'mirrors.xtom.au', 'ftp.at.debian.org', 'debian.anexia.at', 'debian.lagis.at', 'debian.mur.at', 'debian.sil.at', 'ftp.tu-graz.ac.at', 'mirror.alwyzon.net', 'ftp.by.debian.org', 'ftp.byfly.by', 'mirror.datacenter.by', 'ftp.be.debian.org', 'ftp.belnet.be', 'mirror.as35701.net', 'ftp.br.debian.org', 'alcateia.ufscar.br', 'debian.c3sl.ufpr.br', 'ftp.bg.debian.org', 'debian.a1.bg', 'debian.ludost.net', 'debian.mnet.bg', 'debian.telecoms.bg', 'ftp.uni-sofia.bg', 'mirrors.netix.net', 'mirror.telepoint.bg', 'ftp.ca.debian.org', 'debian.mirror.iweb.ca', 'debian.mirror.rafal.ca', 'mirror01-pcl-ott1.accuris.ca', 'mirror.csclub.uwaterloo.ca', 'mirror.dst.ca', 'mirror.estone.ca', 'mirror.it.ubc.ca', 'ftp.cl.debian.org', 'debian.redlibre.cl', 'mirror.hnd.cl', 'mirror.insacom.cl', 'mirror.ufro.cl', 'ftp.cn.debian.org', 'mirror.nju.edu.cn', 'mirror.nyist.edu.cn', 'mirrors.163.com', 'mirrors.bfsu.edu.cn', 'mirrors.huaweicloud.com', 'mirrors.jlu.edu.cn', 'mirror.sjtu.edu.cn', 'mirrors.neusoft.edu.cn', 'mirrors.tuna.tsinghua.edu.cn', 'mirrors.ustc.edu.cn', 'mirrors.zju.edu.cn', 'debianmirror.una.ac.cr', 'ftp.hr.debian.org', 'debian.carnet.hr', 'debian.iskon.hr', 'ftp.cz.debian.org', 'debian.mirror.web4u.cz', 'debian.superhosting.cz', 'ftp.cvut.cz', 'ftp.debian.cz', 'ftp.sh.cvut.cz', 'ftp.zcu.cz', 'merlin.fit.vutbr.cz', 'mirror.dkm.cz', 'mirror.it4i.cz', 'mirror-prg.webglobe.com', 'mirrors.nic.cz', 'ftp.dk.debian.org', 'mirror.asergo.com', 'mirror.one.com', 'mirrors.dotsrc.org', 'mirrors.rackhosting.com', 'mirrors.xtom.ee', 'ftp.fi.debian.org', 'www.nic.funet.fi', 'ftp.fr.debian.org', 'debian.apt-mirror.de', 'debian.obspm.fr', 'debian.polytech-lille.fr', 'debian.proxad.net', 'debian.univ-tlse2.fr', 'deb-mir1.naitways.net', 'ftp.ec-m.fr', 'ftp.lip6.fr', 'ftp.rezopole.net', 'ftp.univ-pau.fr', 'ftp.u-picardie.fr', 'ftp.u-strasbg.fr', 'miroir.univ-lorraine.fr', 'mirror.gitoyen.net', 'mirror.ibcp.fr', 'mirror.johnnybegood.fr', 'mirror.plusserver.com', 'mirrors.ircam.fr', 'debian.grena.ge', 'ftp2.de.debian.org', 'ftp.de.debian.org', 'artfiles.org', 'debian.charite.de', 'debian.inf.tu-dresden.de', 'debian.intergenia.de', 'debian.mirror.iphh.net', 'debian.mirror.lrz.de', 'debian.netcologne.de', 'debian.tu-bs.de', 'de.mirrors.clouvider.net', 'ftp.fau.de', 'ftp.gwdg.de', 'ftp.halifax.rwth-aachen.de', 'ftp.hosteurope.de', 'ftp.plusline.net', 'ftp-stud.hs-esslingen.de', 'ftp.tu-chemnitz.de', 'ftp.tu-clausthal.de', 'ftp.uni-bayreuth.de', 'ftp.uni-hannover.de', 'ftp.uni-kl.de', 'ftp.uni-mainz.de', 'ftp.wrz.de', 'mirror.23m.com', 'mirror.de.leaseweb.net', 'mirror.dogado.de', 'mirror.eu.oneandone.net', 'mirror.informatik.tu-freiberg.de', 'mirror.ipb.de', 'mirror.netzwerge.de', 'mirrors.xtom.de', 'mirror.united-gameserver.de', 'mirror.wtnet.de', 'packages.hs-regensburg.de', 'pubmirror.plutex.de', 'debian.otenet.gr', 'ftp.hk.debian.org', 'mirror.xtom.com.hk', 'ftp.bme.hu', 'repo.jztkft.hu', 'ftp.is.debian.org', 'is.mirror.flokinet.net', 'mirrors.iitd.ac.in', 'kebo.pens.ac.id', 'mirror.poliwangi.ac.id', 'mirror.unair.ac.id', 'mr.heru.id', 'debian.hostiran.ir', 'debian.parspack.com', 'debian.interhost.co.il', 'ftp.it.debian.org', 'debian.dynamica.it', 'debian.mirror.garr.it', 'ftp.linux.it', 'giano.com.dist.unige.it', 'mirror.units.it', 'ftp.jp.debian.org', 'debian-mirror.sakura.ne.jp', 'ftp.kddilabs.jp', 'ftp.nara.wide.ad.jp', 'ftp.riken.jp', 'mirrors.xtom.jp', 'repo.jing.rocks', 'mirror.hoster.kz', 'mirror.ps.kz', 'debian.mirror.liquidtelecom.com', 'ftp.kr.debian.org', 'ftp.kaist.ac.kr', 'mirror.siwoo.org', 'debian.koyanet.lv', 'mirror.cloudhosting.lv', 'ftp.lt.debian.org', 'debian.balt.net', 'debian.mirror.vu.lt', 'mirror.litnet.lt', 'mirror.vpsnet.com', 'debian.mirror.root.lu', 'mirror-mk.interspace.com', 'mirror.onevip.mk', 'ftp.md.debian.org', 'mirror.as43289.net', 'ftp.nl.debian.org', 'debian.snt.utwente.nl', 'mirror.duocast.net', 'mirror.i3d.net', 'mirror.nl.datapacket.com', 'mirror.nl.leaseweb.net', 'mirror.seedvps.com', 'mirrors.hostiserver.com', 'mirrors.xtom.nl', 'nl.mirrors.clouvider.net', 'ftp.nc.debian.org', 'debian.nautile.nc', 'mirror.lagoon.nc', 'ftp.nz.debian.org', 'linux.purple-cat.net', 'mirror.fsmg.org.nz', 'ftp.no.debian.org', 'ftp.uio.no', 'ftp.pl.debian.org', 'debian.inhost.pro', 'ftp.agh.edu.pl', 'ftp.icm.edu.pl', 'ftp.psnc.pl', 'ftp.task.gda.pl', 'ftp.pt.debian.org', 'debian.uevora.pt', 'ftp.eq.uc.pt', 'ftp.rnl.tecnico.ulisboa.pt', 'mirrors.ptisp.pt', 'mirrors.up.pt', 'debian.mithril.re', 'depot-debian.univ-reunion.fr', 'mirror.linux.ro', 'mirrors.hostico.ro', 'mirrors.nav.ro', 'mirrors.nxthost.com', 'ro.mirror.flokinet.net', 'ftp.ru.debian.org', 'ftp.psn.ru', 'mirror.corbina.net', 'mirror.docker.ru', 'mirror.hyperdedic.ru', 'mirror.mephi.ru', 'mirrors.powernet.com.ru', 'mirror.coganng.com', 'mirror.sg.gs', 'ossmirror.mycloud.services', 'ftp.sk.debian.org', 'deb.bbxnet.sk', 'ftp.antik.sk', 'ftp.debian.sk', 'ftp.si.debian.org', 'debian.saix.net', 'ftp.is.co.za', 'ftp.es.debian.org', 'debian.grn.cat', 'debian.redimadrid.es', 'debian.redparra.com', 'debian.uvigo.es', 'ftp.caliu.cat', 'ftp.cica.es', 'ftp.udc.es', 'repo.ifca.es', 'softlibre.unizar.es', 'ulises.hostalia.com', 'ftp.se.debian.org', 'debian.lth.se', 'debian.mirror.su.se', 'ftp.acc.umu.se', 'ftpmirror1.infania.net', 'mirrors.glesys.net', 'mirror.zetup.net', 'ftp.ch.debian.org', 'debian.ethz.ch', 'mirror1.infomaniak.com', 'mirror2.infomaniak.com', 'mirror.init7.net', 'mirror.iway.ch', 'mirror.metanet.ch', 'mirror.sinavps.ch', 'pkg.adfinis.com', 'ftp.tw.debian.org', 'debian.csie.ntu.edu.tw', 'debian.cs.nycu.edu.tw', 'ftp.tku.edu.tw', 'opensource.nchc.org.tw', 'tw1.mirror.blendbyte.net', 'ftp.debianclub.org', 'mirror.applebred.net', 'mirror.kku.ac.th', 'ftp.tr.debian.org', 'debian.gnu.gen.tr', 'ftp.linux.org.tr', 'debian.netforce.hosting', 'debian.volia.net', 'fastmirror.pp.ua', 'mirror.mirohost.net', 'mirror.ukrnames.com', 'ftp.uk.debian.org', 'debian.mirrors.uk2.net', 'debian.mirror.uk.sargasso.net', 'free.hands.com', 'ftp.ticklers.org', 'mirror.cov.ukservers.com', 'mirror.lchost.net', 'mirror.mythic-beasts.com', 'mirror.ox.ac.uk', 'mirror.positive-internet.com', 'mirrors.coreix.net', 'mirrorservice.org', 'mirror.vinehost.net', 'ukdebian.mirror.anlx.net', 'uk.mirrors.clouvider.net', 'ftp.us.debian.org', 'atl.mirrors.clouvider.net', 'debian-archive.trafficmanager.net', 'debian.cc.lehigh.edu', 'debian.csail.mit.edu', 'debian.cs.binghamton.edu', 'debian.mirror.constant.com', 'debian.osuosl.org', 'debian.uchicago.edu', 'la.mirrors.clouvider.net', 'mirror.0x626b.com', 'mirror.clarkson.edu', 'mirror.cogentco.com', 'mirror.dal.nexril.net', 'mirror.keystealth.org', 'mirror.rustytel.net', 'mirrors.accretive-networks.net', 'mirror.siena.edu', 'mirrors.lug.mtu.edu', 'mirrors.namecheap.com', 'mirrors.ocf.berkeley.edu', 'mirror.steadfast.net', 'mirrors.vcea.wsu.edu']\n"
          ]
        }
      ]
    },
    {
      "cell_type": "code",
      "source": [
        "#take a subset of urls\n",
        "urls = urls[:50]\n",
        "len(urls)"
      ],
      "metadata": {
        "colab": {
          "base_uri": "https://localhost:8080/"
        },
        "id": "kIGRRpfAIqD6",
        "outputId": "70892474-3b16-4d2f-ef1d-905d69533f6f"
      },
      "execution_count": 4,
      "outputs": [
        {
          "output_type": "execute_result",
          "data": {
            "text/plain": [
              "50"
            ]
          },
          "metadata": {},
          "execution_count": 4
        }
      ]
    },
    {
      "cell_type": "markdown",
      "source": [
        "#***FINDING IP ADDRESSES***#"
      ],
      "metadata": {
        "id": "cuo8_spbuC-x"
      }
    },
    {
      "cell_type": "code",
      "source": [
        "# save into the list 'indirizzi' all the ip addresses\n",
        "indirizzi = []\n",
        "for i in range(len(urls)):\n",
        "  target = urls[i]\n",
        "  target_ip = socket.gethostbyname(target)\n",
        "  indirizzi.append(target_ip)\n",
        "print(indirizzi)\n",
        "\n"
      ],
      "metadata": {
        "colab": {
          "base_uri": "https://localhost:8080/"
        },
        "id": "VA2JcvXF0ivp",
        "outputId": "a05b44b7-01dc-4c1c-f408-4057fa50f13f"
      },
      "execution_count": 5,
      "outputs": [
        {
          "output_type": "stream",
          "name": "stdout",
          "text": [
            "['93.187.162.100', '103.84.224.37', '213.129.232.18', '82.209.230.71', '195.234.45.114', '200.236.31.3', '130.89.148.12', '64.50.233.100', '138.204.231.113', '45.125.0.6', '161.53.160.11', '78.128.211.127', '130.225.254.116', '194.71.11.163', '212.27.32.66', '137.226.34.46', '141.76.2.4', '45.125.0.6', '78.129.164.123', '85.94.199.210', '150.65.7.130', '103.22.220.133', '158.129.159.169', '178.17.160.48', '130.89.149.21', '103.2.186.81', '163.7.134.112', '129.240.118.47', '153.19.251.221', '130.89.148.12', '85.143.112.112', '195.80.174.186', '213.129.232.18', '130.89.148.12', '194.71.11.163', '129.132.53.171', '140.110.240.80', '193.140.98.183', '78.129.164.123', '64.50.236.52', '200.14.116.3', '93.187.162.100', '93.187.162.100', '103.84.224.37', '101.0.120.90', '202.158.214.106', '122.252.2.42', '103.1.215.35', '103.84.224.37', '139.5.127.195']\n"
          ]
        }
      ]
    },
    {
      "cell_type": "markdown",
      "source": [
        "#***CALCULATING RTT***#"
      ],
      "metadata": {
        "id": "H9yth1z4Orth"
      }
    },
    {
      "cell_type": "code",
      "source": [
        "import statistics\n",
        "RTT = {}\n",
        "\n",
        "n = 3\n",
        "\n",
        "for i in range(len(indirizzi)):\n",
        "\n",
        "  rtt= []\n",
        "\n",
        "  #For each IP address, is used the DbIpCity.get() method to perform IP geolocation,\n",
        "  #retrieving information such as the city associated with the IP address.\n",
        "  target = indirizzi[i]\n",
        "  res = DbIpCity.get(target, api_key=\"free\")\n",
        "\n",
        "  # Create an ICMP packet with the destination set to the current IP address being processed.\n",
        "  target = indirizzi[i]\n",
        "  pck = IP(dst=target)/ICMP()\n",
        "  #pck.show()\n",
        "\n",
        "  #this loop is used to calculate the average rtt over n values\n",
        "  for k in range(n):\n",
        "    ans, unans = sr(pck,verbose=False, timeout = 1)\n",
        "    #print(ans.summary())\n",
        "\n",
        "    if ans is not None and len(ans) > 0:\n",
        "      query = ans[0][0]\n",
        "      resp = ans[0][1]\n",
        "      #print(resp.show())\n",
        "      rtt.append(resp.time-query.sent_time)\n",
        "\n",
        "  if len(rtt) > 0:\n",
        "    print(f'RTT is {statistics.mean(rtt)*1000} ms')\n",
        "    RTT[res.city]=(statistics.mean(rtt))\n",
        "\n",
        "print(RTT)\n",
        "len(RTT)\n"
      ],
      "metadata": {
        "colab": {
          "base_uri": "https://localhost:8080/"
        },
        "id": "6H5j1zXKPRhh",
        "outputId": "21950a15-61a8-470b-a034-1e7b289d40f4"
      },
      "execution_count": 6,
      "outputs": [
        {
          "output_type": "stream",
          "name": "stdout",
          "text": [
            "RTT is 188.5379950205485 ms\n",
            "RTT is 193.1312084197998 ms\n",
            "RTT is 127.41692860921225 ms\n",
            "RTT is 107.2860558827718 ms\n",
            "RTT is 143.06330680847168 ms\n",
            "RTT is 102.66613960266113 ms\n",
            "RTT is 38.572072982788086 ms\n",
            "RTT is 141.00845654805502 ms\n",
            "RTT is 169.3441073099772 ms\n",
            "RTT is 126.1435349782308 ms\n",
            "RTT is 117.20848083496094 ms\n",
            "RTT is 124.87077713012695 ms\n",
            "RTT is 127.32378641764322 ms\n",
            "RTT is 102.49121983846028 ms\n",
            "RTT is 115.62355359395345 ms\n",
            "RTT is 122.7417786916097 ms\n",
            "RTT is 169.30747032165527 ms\n",
            "RTT is 97.8093147277832 ms\n",
            "RTT is 126.47652626037598 ms\n",
            "RTT is 154.0393034617106 ms\n",
            "RTT is 176.81487401326498 ms\n",
            "RTT is 147.03448613484701 ms\n",
            "RTT is 102.84010569254558 ms\n",
            "RTT is 194.47636604309082 ms\n",
            "RTT is 190.7949447631836 ms\n",
            "RTT is 119.61619059244792 ms\n",
            "RTT is 124.4819164276123 ms\n",
            "RTT is 102.57808367411296 ms\n",
            "RTT is 135.60907046000162 ms\n",
            "RTT is 121.6431458791097 ms\n",
            "RTT is 127.81659762064615 ms\n",
            "RTT is 102.59056091308594 ms\n",
            "RTT is 127.15411186218262 ms\n",
            "RTT is 120.15676498413086 ms\n",
            "RTT is 99.78437423706055 ms\n",
            "RTT is 21.58633867899577 ms\n",
            "RTT is 152.82090504964194 ms\n",
            "RTT is 192.9492950439453 ms\n",
            "RTT is 181.1223030090332 ms\n",
            "RTT is 179.54166730244955 ms\n",
            "RTT is 175.77099800109863 ms\n",
            "RTT is 187.89823849995932 ms\n",
            "RTT is 176.1789321899414 ms\n",
            "RTT is 182.2174390157064 ms\n",
            "RTT is 179.32256062825522 ms\n",
            "RTT is 193.01597277323404 ms\n",
            "{'Yerevan (Kanakerr-Zeytun)': 0.1811223030090332, 'Sydney': 0.17932256062825522, 'Vienna (Ottakring)': 0.12781659762064615, 'Sint-Truiden': 0.1072860558827718, 'Curitiba (Centro)': 0.14306330680847168, 'Amsterdam': 0.10259056091308594, 'New York': 0.038572072982788086, 'Valparaíso': 0.14100845654805502, 'Hong Kong': 0.16930747032165527, 'Zagreb': 0.1261435349782308, 'Prague': 0.11720848083496094, 'Copenhagen': 0.12487077713012695, 'Umeå': 0.12715411186218262, 'Paris': 0.10249121983846028, 'Aachen (Mitte)': 0.11562355359395345, 'Dresden (Südvorstadt-West)': 0.1227417786916097, 'Maidenhead': 0.09978437423706055, 'Milan': 0.12647652626037598, 'Chiyoda': 0.1540393034617106, 'Gyeongsan-si': 0.17681487401326498, 'Chisinau': 0.14703448613484701, 'Noumea (Vallée des Colons)': 0.19447636604309082, 'Wellington (Wellington Central)': 0.1907949447631836, 'Oslo': 0.11961619059244792, 'Gdansk': 0.1244819164276123, 'Moscow': 0.13560907046000162, 'Martin': 0.1216431458791097, 'Zurich (Zürich (Kreis 1) / Hochschulen)': 0.12015676498413086, 'Chicago': 0.02158633867899577, 'Junín': 0.15282090504964194, 'Alexandria': 0.1761789321899414, 'Surfers Paradise': 0.1822174390157064, 'Brisbane': 0.19301597277323404}\n"
          ]
        },
        {
          "output_type": "execute_result",
          "data": {
            "text/plain": [
              "33"
            ]
          },
          "metadata": {},
          "execution_count": 6
        }
      ]
    },
    {
      "cell_type": "markdown",
      "source": [
        "Here can be seen that not all the server are responding, in fact given a subset of 50 servers is possible to calculate the rtt just for a subset of them"
      ],
      "metadata": {
        "id": "y9ap-7E9lW76"
      }
    },
    {
      "cell_type": "markdown",
      "source": [
        "***VERIFY THE CORRECTNESS OF THE RTT VALUES***"
      ],
      "metadata": {
        "id": "kqbifhU11Lrx"
      }
    },
    {
      "cell_type": "markdown",
      "source": [
        "These lines can be used in order to evaluate the correctness of the rtt values previously calculated"
      ],
      "metadata": {
        "id": "U8qFxcg09Lon"
      }
    },
    {
      "cell_type": "code",
      "source": [
        "! apt-get install iputils-ping >/dev/null"
      ],
      "metadata": {
        "id": "RzdkHkQxz7zG"
      },
      "execution_count": 7,
      "outputs": []
    },
    {
      "cell_type": "code",
      "source": [
        "! ping 213.129.232.18"
      ],
      "metadata": {
        "id": "2Utk68vn0Ky5",
        "colab": {
          "base_uri": "https://localhost:8080/"
        },
        "outputId": "091bc8cc-a6a3-4484-eca3-3e5c99effe1b"
      },
      "execution_count": 8,
      "outputs": [
        {
          "output_type": "stream",
          "name": "stdout",
          "text": [
            "PING 213.129.232.18 (213.129.232.18) 56(84) bytes of data.\n",
            "64 bytes from 213.129.232.18: icmp_seq=1 ttl=56 time=128 ms\n",
            "64 bytes from 213.129.232.18: icmp_seq=2 ttl=56 time=127 ms\n",
            "64 bytes from 213.129.232.18: icmp_seq=3 ttl=56 time=128 ms\n",
            "64 bytes from 213.129.232.18: icmp_seq=4 ttl=56 time=128 ms\n",
            "64 bytes from 213.129.232.18: icmp_seq=5 ttl=56 time=127 ms\n",
            "64 bytes from 213.129.232.18: icmp_seq=6 ttl=56 time=127 ms\n",
            "64 bytes from 213.129.232.18: icmp_seq=7 ttl=56 time=128 ms\n",
            "64 bytes from 213.129.232.18: icmp_seq=8 ttl=56 time=127 ms\n",
            "64 bytes from 213.129.232.18: icmp_seq=9 ttl=56 time=128 ms\n",
            "64 bytes from 213.129.232.18: icmp_seq=10 ttl=56 time=128 ms\n",
            "64 bytes from 213.129.232.18: icmp_seq=11 ttl=56 time=127 ms\n",
            "64 bytes from 213.129.232.18: icmp_seq=12 ttl=56 time=127 ms\n",
            "64 bytes from 213.129.232.18: icmp_seq=13 ttl=56 time=127 ms\n",
            "64 bytes from 213.129.232.18: icmp_seq=14 ttl=56 time=128 ms\n",
            "64 bytes from 213.129.232.18: icmp_seq=15 ttl=56 time=128 ms\n",
            "64 bytes from 213.129.232.18: icmp_seq=16 ttl=56 time=128 ms\n",
            "64 bytes from 213.129.232.18: icmp_seq=17 ttl=56 time=127 ms\n",
            "64 bytes from 213.129.232.18: icmp_seq=18 ttl=56 time=127 ms\n",
            "64 bytes from 213.129.232.18: icmp_seq=19 ttl=56 time=127 ms\n",
            "64 bytes from 213.129.232.18: icmp_seq=20 ttl=56 time=127 ms\n",
            "64 bytes from 213.129.232.18: icmp_seq=21 ttl=56 time=128 ms\n",
            "64 bytes from 213.129.232.18: icmp_seq=22 ttl=56 time=128 ms\n",
            "64 bytes from 213.129.232.18: icmp_seq=23 ttl=56 time=127 ms\n",
            "64 bytes from 213.129.232.18: icmp_seq=24 ttl=56 time=128 ms\n",
            "64 bytes from 213.129.232.18: icmp_seq=25 ttl=56 time=128 ms\n",
            "64 bytes from 213.129.232.18: icmp_seq=26 ttl=56 time=127 ms\n",
            "64 bytes from 213.129.232.18: icmp_seq=27 ttl=56 time=128 ms\n",
            "64 bytes from 213.129.232.18: icmp_seq=28 ttl=56 time=127 ms\n",
            "64 bytes from 213.129.232.18: icmp_seq=29 ttl=56 time=127 ms\n",
            "64 bytes from 213.129.232.18: icmp_seq=30 ttl=56 time=127 ms\n",
            "64 bytes from 213.129.232.18: icmp_seq=31 ttl=56 time=128 ms\n",
            "64 bytes from 213.129.232.18: icmp_seq=32 ttl=56 time=127 ms\n",
            "64 bytes from 213.129.232.18: icmp_seq=33 ttl=56 time=128 ms\n",
            "\n",
            "--- 213.129.232.18 ping statistics ---\n",
            "33 packets transmitted, 33 received, 0% packet loss, time 32039ms\n",
            "rtt min/avg/max/mdev = 127.390/127.515/128.039/0.104 ms\n"
          ]
        }
      ]
    },
    {
      "cell_type": "markdown",
      "source": [
        "#***CREATE DICTIONARIES CONTAINING COORDINATES AND DISTANCES***#"
      ],
      "metadata": {
        "id": "qyp7wQOW-uzh"
      }
    },
    {
      "cell_type": "code",
      "source": [
        "coordinates = {}\n",
        "distances = {}\n",
        "information={}\n",
        "\n",
        "for i in range(len(indirizzi)):\n",
        "\n",
        "  ip = indirizzi[i]\n",
        "  res = DbIpCity.get(ip, api_key=\"free\")\n",
        "\n",
        "  #This line stores the latitude and longitude coordinates for the city obtained from the IP geolocation in the coordinates dictionary.\n",
        "  coordinates[res.city] = (res.latitude,res.longitude)\n",
        "\n",
        "  #This line calculates the distance between the city's coordinates and the coordinates of the location where the virtual machine is located\n",
        "  #using the distance() function and stores it in the distances dictionary.\n",
        "  distances[res.city] = distance(coordinates[res.city],(info[\"lat\"],info[\"lon\"]))\n",
        "\n",
        "  #If the city exists in both dictionaries, it retrieves the distance and RTT values\n",
        "  #and stores them in the information dictionary as a tuple (distance, RTT)\n",
        "  if res.city in distances and res.city in RTT:\n",
        "\n",
        "    distanza = distances[res.city]\n",
        "    rtt = RTT[res.city]\n",
        "    information[res.city] = (distanza, rtt)\n",
        "\n",
        "\n",
        "coordinates = {j:k for j,k in coordinates.items() if k[0]!=None and k[1] != None} #cancel elements for which coordinates cannot be calculated\n",
        "\n",
        "print(information)\n",
        "len(information)\n",
        "#print(distances)\n",
        "#print(coordinates)"
      ],
      "metadata": {
        "id": "CDFYiWWCxxPt",
        "colab": {
          "base_uri": "https://localhost:8080/"
        },
        "outputId": "529b5f1c-0acf-4e98-8179-76035c32d094"
      },
      "execution_count": 9,
      "outputs": [
        {
          "output_type": "stream",
          "name": "stdout",
          "text": [
            "{'Yerevan (Kanakerr-Zeytun)': (Distance(10502.202166986723), 0.1811223030090332), 'Sydney': (Distance(14186.501534817202), 0.17932256062825522), 'Vienna (Ottakring)': (Distance(8071.858423690541), 0.12781659762064615), 'Sint-Truiden': (Distance(7264.69364347876), 0.1072860558827718), 'Curitiba (Centro)': (Distance(8810.51679078213), 0.14306330680847168), 'Amsterdam': (Distance(7148.056326280777), 0.10259056091308594), 'New York': (Distance(1835.2667481330202), 0.038572072982788086), 'Valparaíso': (Distance(8595.019154990992), 0.14100845654805502), 'Hong Kong': (Distance(12318.66479105421), 0.16930747032165527), 'Zagreb': (Distance(8231.302250728902), 0.1261435349782308), 'Prague': (Distance(7826.364411718596), 0.11720848083496094), 'Copenhagen': (Distance(7331.316304465499), 0.12487077713012695), 'Umeå': (Distance(7083.1599013150735), 0.12715411186218262), 'Paris': (Distance(7221.433833264982), 0.10249121983846028), 'Aachen (Mitte)': (Distance(7320.353335773452), 0.11562355359395345), 'Dresden (Südvorstadt-West)': (Distance(7721.504407432981), 0.1227417786916097), 'Maidenhead': (Distance(6877.502412417539), 0.09978437423706055), 'Milan': (Distance(7864.102405454132), 0.12647652626037598), 'Chiyoda': (Distance(9775.039168033301), 0.1540393034617106), 'Gyeongsan-si': (Distance(10336.487974431986), 0.17681487401326498), 'Chisinau': (Distance(8807.377352776122), 0.14703448613484701), 'Noumea (Vallée des Colons)': (Distance(12232.08766782485), 0.19447636604309082), 'Wellington (Wellington Central)': (Distance(12814.411682092068), 0.1907949447631836), 'Oslo': (Distance(6958.139702656777), 0.11961619059244792), 'Gdansk': (Distance(7723.0718642676065), 0.1244819164276123), 'Moscow': (Distance(8394.58401653828), 0.13560907046000162), 'Martin': (Distance(8143.06319797855), 0.1216431458791097), 'Zurich (Zürich (Kreis 1) / Hochschulen)': (Distance(7691.139949632872), 0.12015676498413086), 'Chicago': (Distance(690.0807229261211), 0.02158633867899577), 'Junín': (Distance(9127.14242102947), 0.15282090504964194), 'Alexandria': (Distance(14189.916883240765), 0.1761789321899414), 'Surfers Paradise': (Distance(13669.97831805658), 0.1822174390157064), 'Brisbane': (Distance(13671.046242290096), 0.19301597277323404)}\n"
          ]
        },
        {
          "output_type": "execute_result",
          "data": {
            "text/plain": [
              "33"
            ]
          },
          "metadata": {},
          "execution_count": 9
        }
      ]
    },
    {
      "cell_type": "markdown",
      "source": [
        "#***CREATE A CSV FILE CONTAINING THE DISTANCES (OPTIONAL)***#"
      ],
      "metadata": {
        "id": "BnvId4dM-4OI"
      }
    },
    {
      "cell_type": "code",
      "source": [
        "# Name of the csv file\n",
        "file_name = 'Data.csv'\n",
        "\n",
        "# List of dictionary's keys (CSV file header)\n",
        "header = list(coordinates.keys())\n",
        "\n",
        "# List of dictionary's values\n",
        "values = list(coordinates.values())\n",
        "\n",
        "#open the CSV file in writing mode and create an object 'writer'\n",
        "with open(file_name, 'w', newline='') as file_csv:\n",
        "\n",
        "    writer = csv.writer(file_csv)\n",
        "    # write the header in the CSV file\n",
        "    writer.writerow(header)\n",
        "\n",
        "    # write values in the csv file\n",
        "    writer.writerow(values)\n",
        "\n",
        "print(f\"The dictionary has been saved in the csv file '{file_name}'.\")\n"
      ],
      "metadata": {
        "id": "pfahZW0Az6KV",
        "colab": {
          "base_uri": "https://localhost:8080/"
        },
        "outputId": "07dc56d8-beb9-4a57-d1fe-eb494bda9b88"
      },
      "execution_count": 10,
      "outputs": [
        {
          "output_type": "stream",
          "name": "stdout",
          "text": [
            "The dictionary has been saved in the csv file 'Data.csv'.\n"
          ]
        }
      ]
    },
    {
      "cell_type": "markdown",
      "source": [
        "#***SORT DISTANCES IN AN INCREASING ORDER***#"
      ],
      "metadata": {
        "id": "5IuQIR4X8a6C"
      }
    },
    {
      "cell_type": "code",
      "source": [
        "# sort distances an increase order\n",
        "new_information =  sorted(information.items(), key=lambda x: x[1])\n",
        "\n",
        "# print sorted distances\n",
        "for res.city, distance in new_information:\n",
        "\n",
        "    print(f\"{res.city}: {distance}\")"
      ],
      "metadata": {
        "id": "R4PF0sMe8Z4T",
        "colab": {
          "base_uri": "https://localhost:8080/"
        },
        "outputId": "b240f097-f60f-40e4-fdc3-c464c17ab345"
      },
      "execution_count": 11,
      "outputs": [
        {
          "output_type": "stream",
          "name": "stdout",
          "text": [
            "Chicago: (Distance(690.0807229261211), 0.02158633867899577)\n",
            "New York: (Distance(1835.2667481330202), 0.038572072982788086)\n",
            "Maidenhead: (Distance(6877.502412417539), 0.09978437423706055)\n",
            "Oslo: (Distance(6958.139702656777), 0.11961619059244792)\n",
            "Umeå: (Distance(7083.1599013150735), 0.12715411186218262)\n",
            "Amsterdam: (Distance(7148.056326280777), 0.10259056091308594)\n",
            "Paris: (Distance(7221.433833264982), 0.10249121983846028)\n",
            "Sint-Truiden: (Distance(7264.69364347876), 0.1072860558827718)\n",
            "Aachen (Mitte): (Distance(7320.353335773452), 0.11562355359395345)\n",
            "Copenhagen: (Distance(7331.316304465499), 0.12487077713012695)\n",
            "Zurich (Zürich (Kreis 1) / Hochschulen): (Distance(7691.139949632872), 0.12015676498413086)\n",
            "Dresden (Südvorstadt-West): (Distance(7721.504407432981), 0.1227417786916097)\n",
            "Gdansk: (Distance(7723.0718642676065), 0.1244819164276123)\n",
            "Prague: (Distance(7826.364411718596), 0.11720848083496094)\n",
            "Milan: (Distance(7864.102405454132), 0.12647652626037598)\n",
            "Vienna (Ottakring): (Distance(8071.858423690541), 0.12781659762064615)\n",
            "Martin: (Distance(8143.06319797855), 0.1216431458791097)\n",
            "Zagreb: (Distance(8231.302250728902), 0.1261435349782308)\n",
            "Moscow: (Distance(8394.58401653828), 0.13560907046000162)\n",
            "Valparaíso: (Distance(8595.019154990992), 0.14100845654805502)\n",
            "Chisinau: (Distance(8807.377352776122), 0.14703448613484701)\n",
            "Curitiba (Centro): (Distance(8810.51679078213), 0.14306330680847168)\n",
            "Junín: (Distance(9127.14242102947), 0.15282090504964194)\n",
            "Chiyoda: (Distance(9775.039168033301), 0.1540393034617106)\n",
            "Gyeongsan-si: (Distance(10336.487974431986), 0.17681487401326498)\n",
            "Yerevan (Kanakerr-Zeytun): (Distance(10502.202166986723), 0.1811223030090332)\n",
            "Noumea (Vallée des Colons): (Distance(12232.08766782485), 0.19447636604309082)\n",
            "Hong Kong: (Distance(12318.66479105421), 0.16930747032165527)\n",
            "Wellington (Wellington Central): (Distance(12814.411682092068), 0.1907949447631836)\n",
            "Surfers Paradise: (Distance(13669.97831805658), 0.1822174390157064)\n",
            "Brisbane: (Distance(13671.046242290096), 0.19301597277323404)\n",
            "Sydney: (Distance(14186.501534817202), 0.17932256062825522)\n",
            "Alexandria: (Distance(14189.916883240765), 0.1761789321899414)\n"
          ]
        }
      ]
    },
    {
      "cell_type": "markdown",
      "source": [
        "#***PLOT***#"
      ],
      "metadata": {
        "id": "Fwuk94sarCYV"
      }
    },
    {
      "cell_type": "code",
      "source": [
        "import matplotlib as mpl\n",
        "import matplotlib.pyplot as plt\n",
        "import numpy as np"
      ],
      "metadata": {
        "id": "yX8wtUzSBBBF"
      },
      "execution_count": 12,
      "outputs": []
    },
    {
      "cell_type": "code",
      "source": [
        "#These lines extract the distances (in kilometers) from the new_information list.\n",
        "#The distances are then stored in the list valori_distanze\n",
        "distanze = [tupla[1][0] for tupla in new_information]\n",
        "valori_distanze = [d.km for d in distanze]\n",
        "\n",
        "#This line extracts the RTT values (in milliseconds) from the new_information list and multiplies\n",
        "#each value by 1000 to convert them to milliseconds. The RTT values are then stored in the list rtt.\n",
        "rtt = [tupla[1][1]*1000 for tupla in new_information]\n",
        "\n",
        "print(\"Distanze:\", valori_distanze)\n",
        "print(\"RTT:\", rtt)\n",
        "\n",
        "# Create the plot\n",
        "#plt.figure(figsize=(10, 6))\n",
        "\n",
        "#Plot distances and rtt\n",
        "plt.scatter(valori_distanze, rtt, marker='o', color='blue', label='Distanze')\n",
        "\n",
        "#fit a linear regression line to the data points using NumPy's polyfit() function.\n",
        "#It then plots this regression line using plt.plot().\n",
        "coeff = np.polyfit(valori_distanze, rtt,deg=1)\n",
        "max_distance = 15_000\n",
        "plt.plot( [0, max_distance], [0, coeff[1] + coeff[0]*max_distance], label='experimental curve') #sono il primo e l'ultimo punto della retta\n",
        "plt.plot( [0, max_distance], [0, 2*max_distance/200], label='theoretical curve')#200 is the value of the light velocity in the fiber in km/ms\n",
        "\n",
        "plt.xlabel('Distanze km')\n",
        "plt.ylabel('RTT (ms)')\n",
        "\n",
        "# Legend\n",
        "plt.legend(loc='upper left')\n",
        "\n",
        "# Show the plot\n",
        "plt.title('Distanze e RTT per le città')\n",
        "plt.grid(True)\n",
        "plt.show()\n"
      ],
      "metadata": {
        "id": "vzkMn4kC7HvW",
        "colab": {
          "base_uri": "https://localhost:8080/",
          "height": 527
        },
        "outputId": "fdfb9927-cd5f-4667-c302-5efc97132916"
      },
      "execution_count": 13,
      "outputs": [
        {
          "output_type": "stream",
          "name": "stdout",
          "text": [
            "Distanze: [690.0807229261211, 1835.2667481330202, 6877.502412417539, 6958.139702656777, 7083.1599013150735, 7148.056326280777, 7221.433833264982, 7264.69364347876, 7320.353335773452, 7331.316304465499, 7691.139949632872, 7721.504407432981, 7723.0718642676065, 7826.364411718596, 7864.102405454132, 8071.858423690541, 8143.06319797855, 8231.302250728902, 8394.58401653828, 8595.019154990992, 8807.377352776122, 8810.51679078213, 9127.14242102947, 9775.039168033301, 10336.487974431986, 10502.202166986723, 12232.08766782485, 12318.66479105421, 12814.411682092068, 13669.97831805658, 13671.046242290096, 14186.501534817202, 14189.916883240765]\n",
            "RTT: [21.58633867899577, 38.572072982788086, 99.78437423706055, 119.61619059244792, 127.15411186218262, 102.59056091308594, 102.49121983846028, 107.2860558827718, 115.62355359395345, 124.87077713012695, 120.15676498413086, 122.7417786916097, 124.4819164276123, 117.20848083496094, 126.47652626037598, 127.81659762064615, 121.6431458791097, 126.1435349782308, 135.60907046000162, 141.00845654805502, 147.03448613484701, 143.06330680847168, 152.82090504964194, 154.0393034617106, 176.81487401326498, 181.1223030090332, 194.47636604309082, 169.30747032165527, 190.7949447631836, 182.2174390157064, 193.01597277323404, 179.32256062825522, 176.1789321899414]\n"
          ]
        },
        {
          "output_type": "display_data",
          "data": {
            "text/plain": [
              "<Figure size 640x480 with 1 Axes>"
            ],
            "image/png": "[encoded data removed]"
          },
          "metadata": {}
        }
      ]
    },
    {
      "cell_type": "markdown",
      "source": [
        "***COMMENT ON THE FINAL RESULT***"
      ],
      "metadata": {
        "id": "fxveBxDrOGaj"
      }
    },
    {
      "cell_type": "markdown",
      "source": [
        "The Estimated RTT is smaller than the measured one. This is due to the fact that estimation does not consider the presence of a network but see the connection as a single end to end long fiber optic cable. The queuing and processing time of each hop in the path and the path topology are not considered and this justifies the difference between the two Round Trip Times.\n",
        "\n",
        "Despite this, the trend of the measured RTT is linear as the theoretical one."
      ],
      "metadata": {
        "id": "zK5aJkq2N4DS"
      }
    }
  ]
}